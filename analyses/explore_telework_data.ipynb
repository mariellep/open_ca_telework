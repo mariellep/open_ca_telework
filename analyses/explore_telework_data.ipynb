{
 "cells": [
  {
   "cell_type": "code",
   "execution_count": null,
   "id": "529dbdca-37c1-48a4-8f79-7049a033bb1c",
   "metadata": {},
   "outputs": [],
   "source": [
    "import pandas as pd\n",
    "import altair as alt\n",
    "\n",
    "# Show all rows\n",
    "pd.set_option('display.max_rows', None)\n",
    "\n",
    "# Show all columns\n",
    "pd.set_option('display.max_columns', None)\n",
    "\n",
    "# Set max column width to display long text without truncation\n",
    "pd.set_option('display.max_colwidth', None)"
   ]
  },
  {
   "cell_type": "markdown",
   "id": "ab12d6c0-5c58-4fd3-b6b9-c19548fe1c43",
   "metadata": {},
   "source": [
    "# [Online Data Catalog State Hybrid Workforce](https://catalog.data.gov/dataset/statewide-hybrid-workforce)\n",
    "\n",
    "Statewide telework data. Last updated 11/24/2024"
   ]
  },
  {
   "cell_type": "code",
   "execution_count": null,
   "id": "a2a0165d-65ff-41e9-80b2-a905e8c2ccd2",
   "metadata": {},
   "outputs": [],
   "source": [
    "telework_day_tr = pd.read_csv(\"../data/vw_export_telework_days_trend.csv\")\n",
    "telework_day_det = pd.read_csv(\"../data/vw_export_telework_days_detail.csv\")\n",
    "hybrid_tr = pd.read_csv(\"../data/vw_export_state_hybrid_workforce_trend.csv\")\n",
    "in_office_tr = pd.read_csv(\"../data/vw_export_in_office_days_trend.csv\")\n",
    "in_office_det = pd.read_csv(\"../data/vw_export_in_office_days_detail.csv\")\n",
    "employee_class = pd.read_csv(\"../data/vw_export_employees_by_classification.csv\")\n",
    "agency_dept_det = pd.read_csv(\"../data/vw_export_detail_by_agency_department.csv\")\n",
    "sub_status = pd.read_csv(\"../data/vw_export_data_submission_status.csv\")\n",
    "cbid = pd.read_csv(\"../data/cbid-listing.csv\")\n",
    "\n",
    "all_data = [\n",
    "    telework_day_tr,\n",
    "    telework_day_det,\n",
    "    hybrid_tr,\n",
    "    in_office_tr,\n",
    "    in_office_det,\n",
    "    employee_class,\n",
    "    agency_dept_det,\n",
    "    sub_status,\n",
    "    cbid\n",
    "    ]"
   ]
  },
  {
   "cell_type": "code",
   "execution_count": null,
   "id": "ef0aa7ca-c46b-477a-84bb-7b5f38a66d14",
   "metadata": {},
   "outputs": [],
   "source": [
    "for i in all_data:\n",
    "    print(i.columns)"
   ]
  },
  {
   "cell_type": "code",
   "execution_count": null,
   "id": "e4f570dc-1bed-4821-a3e1-59a911bc77d9",
   "metadata": {},
   "outputs": [],
   "source": [
    "melt_hybrid_tr = hybrid_tr.melt(\n",
    "    id_vars=\"Report Month\",\n",
    "    var_name=\"employee_category\",\n",
    "    value_name=\"employee_count\"\n",
    ")\n",
    "\n",
    "display(\n",
    "    melt_hybrid_tr.info(),\n",
    "    melt_hybrid_tr[\"employee_category\"].value_counts()\n",
    ")"
   ]
  },
  {
   "cell_type": "code",
   "execution_count": null,
   "id": "5e783a20-ed99-492e-a216-ad741b7c79f0",
   "metadata": {},
   "outputs": [],
   "source": [
    "def make_line(df:pd.DataFrame, x_col: str, y_col: str, color:str = None):\n",
    "    line_chart = alt.Chart(df).mark_line(point=True).encode(\n",
    "    alt.X(x_col),\n",
    "    alt.Y(y_col),\n",
    "    alt.Color(color) if color else alt.value(\"black\"),\n",
    "    tooltip=[x_col, y_col]\n",
    "    )\n",
    "                  \n",
    "    return line_chart              "
   ]
  },
  {
   "cell_type": "code",
   "execution_count": null,
   "id": "570dd356-1ff3-4fb4-905d-0c863b447b5e",
   "metadata": {},
   "outputs": [],
   "source": [
    "make_line(melt_hybrid_tr, x_col=\"Report Month\", y_col=\"employee_count\", color=\"employee_category\")"
   ]
  },
  {
   "cell_type": "code",
   "execution_count": null,
   "id": "54f945e9-0fd2-428a-9af3-2264722d6953",
   "metadata": {},
   "outputs": [],
   "source": [
    "make_line(telework_day_tr, x_col=\"Report Month\", y_col=\"Avg Telework Days/Week\", color=\"Department\")"
   ]
  },
  {
   "cell_type": "code",
   "execution_count": null,
   "id": "df2a6eb4-62e3-4297-83b4-610f0717c167",
   "metadata": {},
   "outputs": [],
   "source": [
    "in_office_tr.columns"
   ]
  },
  {
   "cell_type": "code",
   "execution_count": null,
   "id": "3c04d858-8e1f-4052-93ae-40036720ec09",
   "metadata": {},
   "outputs": [],
   "source": [
    "make_line(in_office_tr, x_col=\"Report Month\", y_col=\"Avg Office Days/Week\", color=\"Department\")"
   ]
  },
  {
   "cell_type": "code",
   "execution_count": null,
   "id": "0dae9088-9024-41a3-9a28-e4fc63576d57",
   "metadata": {},
   "outputs": [],
   "source": []
  }
 ],
 "metadata": {
  "kernelspec": {
   "display_name": "Python 3",
   "language": "python",
   "name": "python3"
  },
  "language_info": {
   "codemirror_mode": {
    "name": "ipython",
    "version": 3
   },
   "file_extension": ".py",
   "mimetype": "text/x-python",
   "name": "python",
   "nbconvert_exporter": "python",
   "pygments_lexer": "ipython3",
   "version": "3.10.12"
  }
 },
 "nbformat": 4,
 "nbformat_minor": 5
}
